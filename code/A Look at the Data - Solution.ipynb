{
 "cells": [
  {
   "cell_type": "markdown",
   "metadata": {},
   "source": [
    "\n",
    "\n",
    "\n",
    "\n",
    "\n",
    "\n",
    "\n",
    "<h2 id='part1'>A Look at the Data</h2>\n",
    "\n",
    "\n",
    "First, let's read in the data and necessary libraries."
   ]
  },
  {
   "cell_type": "code",
   "execution_count": 69,
   "metadata": {},
   "outputs": [
    {
     "data": {
      "text/html": [
       "<div>\n",
       "<style scoped>\n",
       "    .dataframe tbody tr th:only-of-type {\n",
       "        vertical-align: middle;\n",
       "    }\n",
       "\n",
       "    .dataframe tbody tr th {\n",
       "        vertical-align: top;\n",
       "    }\n",
       "\n",
       "    .dataframe thead th {\n",
       "        text-align: right;\n",
       "    }\n",
       "</style>\n",
       "<table border=\"1\" class=\"dataframe\">\n",
       "  <thead>\n",
       "    <tr style=\"text-align: right;\">\n",
       "      <th></th>\n",
       "      <th>What Country do you live in?</th>\n",
       "      <th>Unnamed: 1</th>\n",
       "      <th>Which US State or Territory do you live in?</th>\n",
       "      <th>How old are you?</th>\n",
       "      <th>What is your gender?</th>\n",
       "      <th>How many years of IT/Programming experience do you have?</th>\n",
       "      <th>Which of the following best describes your occupation?</th>\n",
       "      <th>Including bonus, what is your annual compensation in USD?</th>\n",
       "      <th>How would you best describe the industry you currently work in?</th>\n",
       "      <th>How many developers are employed at your company?</th>\n",
       "      <th>...</th>\n",
       "      <th>Did you participate in the Apptivate contest?</th>\n",
       "      <th>What advertisers do you remember seeing on Stack Overflow?</th>\n",
       "      <th>What is your current Stack Overflow reputation?</th>\n",
       "      <th>How do you use Stack Overflow?</th>\n",
       "      <th>Unnamed: 114</th>\n",
       "      <th>Unnamed: 115</th>\n",
       "      <th>Unnamed: 116</th>\n",
       "      <th>Unnamed: 117</th>\n",
       "      <th>Unnamed: 118</th>\n",
       "      <th>How often do you find solutions to your programming problems on Stack Overflow without asking a new question?</th>\n",
       "    </tr>\n",
       "  </thead>\n",
       "  <tbody>\n",
       "    <tr>\n",
       "      <th>0</th>\n",
       "      <td>Response</td>\n",
       "      <td>Other (please specify)</td>\n",
       "      <td>Response</td>\n",
       "      <td>Response</td>\n",
       "      <td>Response</td>\n",
       "      <td>Response</td>\n",
       "      <td>Response</td>\n",
       "      <td>Response</td>\n",
       "      <td>Response</td>\n",
       "      <td>Response</td>\n",
       "      <td>...</td>\n",
       "      <td>Response</td>\n",
       "      <td>Open-Ended Response</td>\n",
       "      <td>Response</td>\n",
       "      <td>Read other people's questions to solve my prob...</td>\n",
       "      <td>Ask questions to solve problems</td>\n",
       "      <td>Answer questions I know the answer to</td>\n",
       "      <td>Looking for a job</td>\n",
       "      <td>Build my online reputation</td>\n",
       "      <td>Other (please specify)</td>\n",
       "      <td>Response</td>\n",
       "    </tr>\n",
       "    <tr>\n",
       "      <th>1</th>\n",
       "      <td>India</td>\n",
       "      <td>NaN</td>\n",
       "      <td>NaN</td>\n",
       "      <td>30-34</td>\n",
       "      <td>Female</td>\n",
       "      <td>6/10/2014</td>\n",
       "      <td>Back-End Web Developer</td>\n",
       "      <td>$20,000 - $40,000</td>\n",
       "      <td>Finance / Banking</td>\n",
       "      <td>100</td>\n",
       "      <td>...</td>\n",
       "      <td>No</td>\n",
       "      <td>NaN</td>\n",
       "      <td>500</td>\n",
       "      <td>Read other people's questions to solve my prob...</td>\n",
       "      <td>Ask questions to solve problems</td>\n",
       "      <td>NaN</td>\n",
       "      <td>NaN</td>\n",
       "      <td>NaN</td>\n",
       "      <td>NaN</td>\n",
       "      <td>Almost Always</td>\n",
       "    </tr>\n",
       "    <tr>\n",
       "      <th>2</th>\n",
       "      <td>Thailand</td>\n",
       "      <td>NaN</td>\n",
       "      <td>NaN</td>\n",
       "      <td>20-24</td>\n",
       "      <td>Male</td>\n",
       "      <td>&lt;2</td>\n",
       "      <td>Back-End Web Developer</td>\n",
       "      <td>Student / Unemployed</td>\n",
       "      <td>Healthcare</td>\n",
       "      <td>NaN</td>\n",
       "      <td>...</td>\n",
       "      <td>NaN</td>\n",
       "      <td>NaN</td>\n",
       "      <td>Don't have an account</td>\n",
       "      <td>Read other people's questions to solve my prob...</td>\n",
       "      <td>NaN</td>\n",
       "      <td>NaN</td>\n",
       "      <td>NaN</td>\n",
       "      <td>NaN</td>\n",
       "      <td>NaN</td>\n",
       "      <td>NaN</td>\n",
       "    </tr>\n",
       "    <tr>\n",
       "      <th>3</th>\n",
       "      <td>Iran</td>\n",
       "      <td>NaN</td>\n",
       "      <td>NaN</td>\n",
       "      <td>25-29</td>\n",
       "      <td>Male</td>\n",
       "      <td>6/10/2014</td>\n",
       "      <td>Desktop Software Developer</td>\n",
       "      <td>&lt;$20,000</td>\n",
       "      <td>Not Currently Employed</td>\n",
       "      <td>1/5/2014</td>\n",
       "      <td>...</td>\n",
       "      <td>No</td>\n",
       "      <td>Tehcodez</td>\n",
       "      <td>1</td>\n",
       "      <td>Read other people's questions to solve my prob...</td>\n",
       "      <td>NaN</td>\n",
       "      <td>NaN</td>\n",
       "      <td>NaN</td>\n",
       "      <td>NaN</td>\n",
       "      <td>NaN</td>\n",
       "      <td>Almost Always</td>\n",
       "    </tr>\n",
       "    <tr>\n",
       "      <th>4</th>\n",
       "      <td>Ukraine</td>\n",
       "      <td>NaN</td>\n",
       "      <td>NaN</td>\n",
       "      <td>&lt; 20</td>\n",
       "      <td>Male</td>\n",
       "      <td>&lt;2</td>\n",
       "      <td>Student</td>\n",
       "      <td>Student / Unemployed</td>\n",
       "      <td>Student</td>\n",
       "      <td>NaN</td>\n",
       "      <td>...</td>\n",
       "      <td>NaN</td>\n",
       "      <td>NaN</td>\n",
       "      <td>50</td>\n",
       "      <td>Read other people's questions to solve my prob...</td>\n",
       "      <td>Ask questions to solve problems</td>\n",
       "      <td>NaN</td>\n",
       "      <td>NaN</td>\n",
       "      <td>NaN</td>\n",
       "      <td>NaN</td>\n",
       "      <td>Almost Always</td>\n",
       "    </tr>\n",
       "  </tbody>\n",
       "</table>\n",
       "<p>5 rows × 120 columns</p>\n",
       "</div>"
      ],
      "text/plain": [
       "  What Country do you live in?              Unnamed: 1  \\\n",
       "0                     Response  Other (please specify)   \n",
       "1                        India                     NaN   \n",
       "2                     Thailand                     NaN   \n",
       "3                         Iran                     NaN   \n",
       "4                      Ukraine                     NaN   \n",
       "\n",
       "  Which US State or Territory do you live in? How old are you?  \\\n",
       "0                                    Response         Response   \n",
       "1                                         NaN            30-34   \n",
       "2                                         NaN            20-24   \n",
       "3                                         NaN            25-29   \n",
       "4                                         NaN             < 20   \n",
       "\n",
       "  What is your gender?  \\\n",
       "0             Response   \n",
       "1               Female   \n",
       "2                 Male   \n",
       "3                 Male   \n",
       "4                 Male   \n",
       "\n",
       "  How many years of IT/Programming experience do you have?  \\\n",
       "0                                           Response         \n",
       "1                                          6/10/2014         \n",
       "2                                                 <2         \n",
       "3                                          6/10/2014         \n",
       "4                                                 <2         \n",
       "\n",
       "  Which of the following best describes your occupation?  \\\n",
       "0                                           Response       \n",
       "1                             Back-End Web Developer       \n",
       "2                             Back-End Web Developer       \n",
       "3                         Desktop Software Developer       \n",
       "4                                            Student       \n",
       "\n",
       "  Including bonus, what is your annual compensation in USD?  \\\n",
       "0                                           Response          \n",
       "1                                  $20,000 - $40,000          \n",
       "2                               Student / Unemployed          \n",
       "3                                           <$20,000          \n",
       "4                               Student / Unemployed          \n",
       "\n",
       "  How would you best describe the industry you currently work in?  \\\n",
       "0                                           Response                \n",
       "1                                  Finance / Banking                \n",
       "2                                         Healthcare                \n",
       "3                             Not Currently Employed                \n",
       "4                                            Student                \n",
       "\n",
       "  How many developers are employed at your company?  ...  \\\n",
       "0                                          Response  ...   \n",
       "1                                               100  ...   \n",
       "2                                               NaN  ...   \n",
       "3                                          1/5/2014  ...   \n",
       "4                                               NaN  ...   \n",
       "\n",
       "  Did you participate in the Apptivate contest?  \\\n",
       "0                                      Response   \n",
       "1                                            No   \n",
       "2                                           NaN   \n",
       "3                                            No   \n",
       "4                                           NaN   \n",
       "\n",
       "  What advertisers do you remember seeing on Stack Overflow?  \\\n",
       "0                                Open-Ended Response           \n",
       "1                                                NaN           \n",
       "2                                                NaN           \n",
       "3                                           Tehcodez           \n",
       "4                                                NaN           \n",
       "\n",
       "  What is your current Stack Overflow reputation?  \\\n",
       "0                                        Response   \n",
       "1                                             500   \n",
       "2                           Don't have an account   \n",
       "3                                               1   \n",
       "4                                              50   \n",
       "\n",
       "                      How do you use Stack Overflow?  \\\n",
       "0  Read other people's questions to solve my prob...   \n",
       "1  Read other people's questions to solve my prob...   \n",
       "2  Read other people's questions to solve my prob...   \n",
       "3  Read other people's questions to solve my prob...   \n",
       "4  Read other people's questions to solve my prob...   \n",
       "\n",
       "                      Unnamed: 114                           Unnamed: 115  \\\n",
       "0  Ask questions to solve problems  Answer questions I know the answer to   \n",
       "1  Ask questions to solve problems                                    NaN   \n",
       "2                              NaN                                    NaN   \n",
       "3                              NaN                                    NaN   \n",
       "4  Ask questions to solve problems                                    NaN   \n",
       "\n",
       "        Unnamed: 116                Unnamed: 117            Unnamed: 118  \\\n",
       "0  Looking for a job  Build my online reputation  Other (please specify)   \n",
       "1                NaN                         NaN                     NaN   \n",
       "2                NaN                         NaN                     NaN   \n",
       "3                NaN                         NaN                     NaN   \n",
       "4                NaN                         NaN                     NaN   \n",
       "\n",
       "  How often do you find solutions to your programming problems on Stack Overflow without asking a new question?  \n",
       "0                                           Response                                                             \n",
       "1                                      Almost Always                                                             \n",
       "2                                                NaN                                                             \n",
       "3                                      Almost Always                                                             \n",
       "4                                      Almost Always                                                             \n",
       "\n",
       "[5 rows x 120 columns]"
      ]
     },
     "execution_count": 69,
     "metadata": {},
     "output_type": "execute_result"
    }
   ],
   "source": [
    "import numpy as np\n",
    "import pandas as pd\n",
    "import matplotlib.pyplot as plt\n",
    "%matplotlib inline\n",
    "\n",
    "df = pd.read_csv('../data/stack_overflow_2014/2014 Stack Overflow Survey Responses.csv') #Uncomment for 2014\n",
    "# df = pd.read_csv('../data/stack_overflow_2017/survey_results_public.csv') #Uncomment for 2017\n",
    "# df = pd.read_csv('../data/stack_overflow_2020/survey_results_public.csv') #Uncomment for 2020\n",
    "\n",
    "df.head()"
   ]
  },
  {
   "cell_type": "markdown",
   "metadata": {},
   "source": [
    "\n",
    "**1.** Let's # of rows and columns"
   ]
  },
  {
   "cell_type": "code",
   "execution_count": 70,
   "metadata": {},
   "outputs": [
    {
     "name": "stdout",
     "output_type": "stream",
     "text": [
      "Rows in the dataset:  7644 ; Colums in the dataset:  120\n"
     ]
    }
   ],
   "source": [
    "# We solved this one for you by providing the number of rows and columns:\n",
    "# You can see how we are prompted that we solved for the number of rows and cols correctly!\n",
    "\n",
    "num_rows = df.shape[0] #Provide the number of rows in the dataset\n",
    "num_cols = df.shape[1] #Provide the number of columns in the dataset\n",
    "\n",
    "print(\"Rows in the dataset: \", num_rows, \"; Colums in the dataset: \", num_cols)"
   ]
  },
  {
   "cell_type": "markdown",
   "metadata": {},
   "source": [
    "\n",
    "**2.** Which columns have no missing values?"
   ]
  },
  {
   "cell_type": "code",
   "execution_count": 71,
   "metadata": {},
   "outputs": [
    {
     "name": "stdout",
     "output_type": "stream",
     "text": [
      "{'What Country do you live in?'}\n"
     ]
    }
   ],
   "source": [
    "no_nulls = set(df.columns[df.isnull().mean()==0])#Provide a set of columns with 0 missing values.\n",
    "\n",
    "print(no_nulls)"
   ]
  },
  {
   "cell_type": "markdown",
   "metadata": {},
   "source": [
    "**3.** Which columns have the most missing values?  "
   ]
  },
  {
   "cell_type": "code",
   "execution_count": 72,
   "metadata": {},
   "outputs": [
    {
     "name": "stdout",
     "output_type": "stream",
     "text": [
      "Columns with more than  75.0 % of missing values :\n"
     ]
    },
    {
     "data": {
      "text/plain": [
       "{'Unnamed: 1',\n",
       " 'Unnamed: 116',\n",
       " 'Unnamed: 118',\n",
       " 'Unnamed: 14',\n",
       " 'Unnamed: 16',\n",
       " 'Unnamed: 17',\n",
       " 'Unnamed: 18',\n",
       " 'Unnamed: 31',\n",
       " 'Unnamed: 32',\n",
       " 'Unnamed: 35',\n",
       " 'Unnamed: 38',\n",
       " 'Unnamed: 39',\n",
       " 'Unnamed: 40',\n",
       " 'Unnamed: 43',\n",
       " 'Unnamed: 47',\n",
       " 'Unnamed: 48',\n",
       " 'Unnamed: 49',\n",
       " 'Unnamed: 50',\n",
       " 'Unnamed: 51',\n",
       " 'Unnamed: 53',\n",
       " 'Unnamed: 55',\n",
       " 'Unnamed: 56',\n",
       " 'Unnamed: 57',\n",
       " 'Unnamed: 58',\n",
       " 'Unnamed: 59',\n",
       " 'Unnamed: 60',\n",
       " 'Unnamed: 61',\n",
       " 'Unnamed: 62',\n",
       " 'Unnamed: 63',\n",
       " 'Unnamed: 64',\n",
       " 'Unnamed: 65',\n",
       " 'Unnamed: 66',\n",
       " 'Unnamed: 70',\n",
       " 'Unnamed: 71',\n",
       " 'Unnamed: 72',\n",
       " 'Unnamed: 73',\n",
       " 'Unnamed: 74',\n",
       " 'Unnamed: 75',\n",
       " 'Unnamed: 76',\n",
       " 'Unnamed: 77',\n",
       " 'Unnamed: 78',\n",
       " 'Unnamed: 79',\n",
       " 'Unnamed: 80',\n",
       " 'Unnamed: 81',\n",
       " 'Unnamed: 84',\n",
       " 'What advertisers do you remember seeing on Stack Overflow?',\n",
       " 'Which of the following languages or technologies have you used significantly in the past year?',\n",
       " 'Which technology products do you own? (You can choose more than one)'}"
      ]
     },
     "execution_count": 72,
     "metadata": {},
     "output_type": "execute_result"
    }
   ],
   "source": [
    "#Threshold used for the null identification \n",
    "null_threshold = 0.75 \n",
    "\n",
    "#Provide a set of columns with a portion of values missing > than the threshold\n",
    "most_missing_cols = set(df.columns[df.isnull().mean() > null_threshold])\n",
    "\n",
    "print(\"Columns with more than \", null_threshold*100, \"% of missing values :\")\n",
    "most_missing_cols"
   ]
  },
  {
   "cell_type": "markdown",
   "metadata": {},
   "source": [
    "**4.** Provide a pandas series of the different **Professional** status values in the dataset.  Store this pandas series in **status_vals**. "
   ]
  },
  {
   "cell_type": "code",
   "execution_count": 56,
   "metadata": {},
   "outputs": [
    {
     "data": {
      "text/plain": [
       "I am a developer by profession                                                   47193\n",
       "I am a student who is learning to code                                            7970\n",
       "I am not primarily a developer, but I write code sometimes as part of my work     5502\n",
       "I code primarily as a hobby                                                       2314\n",
       "I used to be a developer by profession, but no longer am                          1183\n",
       "Name: MainBranch, dtype: int64"
      ]
     },
     "execution_count": 56,
     "metadata": {},
     "output_type": "execute_result"
    }
   ],
   "source": [
    "#Provide a pandas series of the counts for each Professional status\n",
    "# status_vals = df.Professional.value_counts() #2017\n",
    "status_vals = df.MainBranch.value_counts() #2020\n",
    "\n",
    "\n",
    "status_vals"
   ]
  },
  {
   "cell_type": "code",
   "execution_count": 57,
   "metadata": {},
   "outputs": [
    {
     "data": {
      "image/png": "[encoded data removed]",
      "text/plain": [
       "<Figure size 432x288 with 1 Axes>"
      ]
     },
     "metadata": {
      "needs_background": "light"
     },
     "output_type": "display_data"
    }
   ],
   "source": [
    "#Bar chart of the proportion of individuals in each professional category \n",
    "\n",
    "(status_vals/df.shape[0]).plot(kind=\"bar\");\n",
    "plt.title(\"What kind of developer are you?\");"
   ]
  },
  {
   "cell_type": "markdown",
   "metadata": {},
   "source": [
    "**5.** Provide a pandas series of the different **FormalEducation** status values in the dataset.  Store this pandas series in **ed_vals**. "
   ]
  },
  {
   "cell_type": "code",
   "execution_count": 58,
   "metadata": {},
   "outputs": [
    {
     "data": {
      "text/plain": [
       "Bachelor’s degree (B.A., B.S., B.Eng., etc.)                                          26542\n",
       "Master’s degree (M.A., M.S., M.Eng., MBA, etc.)                                       13112\n",
       "Some college/university study without earning a degree                                 7239\n",
       "Secondary school (e.g. American high school, German Realschule or Gymnasium, etc.)     4771\n",
       "Associate degree (A.A., A.S., etc.)                                                    1843\n",
       "Other doctoral degree (Ph.D., Ed.D., etc.)                                             1690\n",
       "Primary/elementary school                                                               941\n",
       "Professional degree (JD, MD, etc.)                                                      800\n",
       "I never completed any formal education                                                  493\n",
       "Name: EdLevel, dtype: int64"
      ]
     },
     "execution_count": 58,
     "metadata": {},
     "output_type": "execute_result"
    }
   ],
   "source": [
    "#Provide a pandas series of the counts for each FormalEducation status\n",
    "# ed_vals = df.FormalEducation.value_counts() #2017\n",
    "ed_vals = df.EdLevel.value_counts() #2020\n",
    "\n",
    "ed_vals"
   ]
  },
  {
   "cell_type": "code",
   "execution_count": 59,
   "metadata": {},
   "outputs": [
    {
     "data": {
      "image/png": "[encoded data removed]",
      "text/plain": [
       "<Figure size 432x288 with 1 Axes>"
      ]
     },
     "metadata": {
      "needs_background": "light"
     },
     "output_type": "display_data"
    }
   ],
   "source": [
    "# Bar chart of the proportion of individuals in ed_vals\n",
    "\n",
    "(ed_vals/df.shape[0]).plot(kind=\"bar\");\n",
    "plt.title(\"Formal Education\");"
   ]
  },
  {
   "cell_type": "markdown",
   "metadata": {},
   "source": [
    "**6.** Pandas series of the different **Country** values in the dataset.  Store this pandas series in **count_vals**. "
   ]
  },
  {
   "cell_type": "code",
   "execution_count": 65,
   "metadata": {},
   "outputs": [
    {
     "data": {
      "text/plain": [
       "United States                     11455\n",
       "India                              5197\n",
       "United Kingdom                     4395\n",
       "Germany                            4143\n",
       "Canada                             2233\n",
       "                                  ...  \n",
       "Chad                                  1\n",
       "S. Georgia & S. Sandwich Isls.        1\n",
       "Gibraltar                             1\n",
       "Lesotho                               1\n",
       "Christmas Island                      1\n",
       "Name: Country, Length: 201, dtype: int64"
      ]
     },
     "execution_count": 65,
     "metadata": {},
     "output_type": "execute_result"
    }
   ],
   "source": [
    "#Provide a pandas series of the counts for each Country\n",
    "count_vals = df.Country.value_counts()\n",
    "\n",
    "count_vals"
   ]
  },
  {
   "cell_type": "code",
   "execution_count": 66,
   "metadata": {},
   "outputs": [
    {
     "data": {
      "image/png": "[encoded data removed]",
      "text/plain": [
       "<Figure size 432x288 with 1 Axes>"
      ]
     },
     "metadata": {
      "needs_background": "light"
     },
     "output_type": "display_data"
    }
   ],
   "source": [
    "# Bar chart of the proportion of the top 10 countries for the individuals in count_vals\n",
    "\n",
    "(count_vals[:10]/df.shape[0]).plot(kind=\"bar\");\n",
    "plt.title(\"Country\");"
   ]
  },
  {
   "cell_type": "markdown",
   "metadata": {},
   "source": [
    "**7.** Pandas series of the different **Gender** values in the dataset.  Store this pandas series in **gend_vals**. "
   ]
  },
  {
   "cell_type": "code",
   "execution_count": 67,
   "metadata": {},
   "outputs": [
    {
     "data": {
      "text/plain": [
       "Male                                                       31589\n",
       "Female                                                      2600\n",
       "Other                                                        225\n",
       "Male; Other                                                  171\n",
       "Gender non-conforming                                        160\n",
       "Male; Gender non-conforming                                   65\n",
       "Female; Transgender                                           56\n",
       "Transgender                                                   55\n",
       "Female; Gender non-conforming                                 29\n",
       "Male; Female                                                  15\n",
       "Transgender; Gender non-conforming                            15\n",
       "Male; Female; Transgender; Gender non-conforming; Other       15\n",
       "Male; Transgender                                             11\n",
       "Female; Transgender; Gender non-conforming                     8\n",
       "Male; Female; Transgender; Gender non-conforming               7\n",
       "Male; Female; Transgender                                      4\n",
       "Gender non-conforming; Other                                   4\n",
       "Male; Transgender; Gender non-conforming                       4\n",
       "Male; Gender non-conforming; Other                             3\n",
       "Male; Female; Other                                            2\n",
       "Female; Transgender; Gender non-conforming; Other              1\n",
       "Female; Transgender; Other                                     1\n",
       "Male; Female; Gender non-conforming                            1\n",
       "Female; Gender non-conforming; Other                           1\n",
       "Female; Other                                                  1\n",
       "Male; Female; Gender non-conforming; Other                     1\n",
       "Male; Transgender; Other                                       1\n",
       "Male; Female; Transgender; Other                               1\n",
       "Transgender; Other                                             1\n",
       "Name: Gender, dtype: int64"
      ]
     },
     "execution_count": 67,
     "metadata": {},
     "output_type": "execute_result"
    }
   ],
   "source": [
    "#Provide a pandas series of the counts for each Gender\n",
    "gend_vals = df.Gender.value_counts()\n",
    "\n",
    "gend_vals"
   ]
  },
  {
   "cell_type": "code",
   "execution_count": 68,
   "metadata": {},
   "outputs": [
    {
     "data": {
      "image/png": "[encoded data removed]",
      "text/plain": [
       "<Figure size 432x288 with 1 Axes>"
      ]
     },
     "metadata": {
      "needs_background": "light"
     },
     "output_type": "display_data"
    }
   ],
   "source": [
    "# Bar chart of the proportion of the top 10 values for the individuals in gend_vals\n",
    "\n",
    "(gend_vals[:10]/df.shape[0]).plot(kind=\"bar\");\n",
    "plt.title(\"Gender\");"
   ]
  },
  {
   "cell_type": "code",
   "execution_count": null,
   "metadata": {},
   "outputs": [],
   "source": []
  }
 ],
 "metadata": {
  "kernelspec": {
   "display_name": "Python 3",
   "language": "python",
   "name": "python3"
  },
  "language_info": {
   "codemirror_mode": {
    "name": "ipython",
    "version": 3
   },
   "file_extension": ".py",
   "mimetype": "text/x-python",
   "name": "python",
   "nbconvert_exporter": "python",
   "pygments_lexer": "ipython3",
   "version": "3.6.1"
  }
 },
 "nbformat": 4,
 "nbformat_minor": 2
}
