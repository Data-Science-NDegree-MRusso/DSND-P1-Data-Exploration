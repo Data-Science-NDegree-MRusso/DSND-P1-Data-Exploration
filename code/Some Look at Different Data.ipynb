{
 "cells": [
  {
   "cell_type": "markdown",
   "metadata": {},
   "source": [
    "\n",
    "\n",
    "\n",
    "\n",
    "\n",
    "\n",
    "\n",
    "<h2 id='part1'>Compare the Data - 2</h2>\n",
    "\n",
    "\n",
    "Compare 2017 and 2020"
   ]
  },
  {
   "cell_type": "markdown",
   "metadata": {},
   "source": [
    "First, let's read in the data and necessary libraries."
   ]
  },
  {
   "cell_type": "code",
   "execution_count": 1,
   "metadata": {},
   "outputs": [],
   "source": [
    "import numpy as np\n",
    "import pandas as pd\n",
    "import matplotlib.pyplot as plt\n",
    "from collections import defaultdict\n",
    "%matplotlib inline\n",
    "\n",
    "df_17 = pd.read_csv('../data/stack_overflow_2017/survey_results_public.csv') #Uncomment for 2017\n",
    "df_18 = pd.read_csv('../data/stack_overflow_2018/survey_results_public.csv',dtype='string') #Uncomment for 2017\n",
    "df_19 = pd.read_csv('../data/stack_overflow_2019/survey_results_public.csv') #Uncomment for 2017\n",
    "df_20 = pd.read_csv('../data/stack_overflow_2020/survey_results_public.csv') #Uncomment for 2020"
   ]
  },
  {
   "cell_type": "code",
   "execution_count": 2,
   "metadata": {},
   "outputs": [
    {
     "data": {
      "text/html": [
       "<div>\n",
       "<style scoped>\n",
       "    .dataframe tbody tr th:only-of-type {\n",
       "        vertical-align: middle;\n",
       "    }\n",
       "\n",
       "    .dataframe tbody tr th {\n",
       "        vertical-align: top;\n",
       "    }\n",
       "\n",
       "    .dataframe thead th {\n",
       "        text-align: right;\n",
       "    }\n",
       "</style>\n",
       "<table border=\"1\" class=\"dataframe\">\n",
       "  <thead>\n",
       "    <tr style=\"text-align: right;\">\n",
       "      <th></th>\n",
       "      <th>Respondent</th>\n",
       "      <th>Professional</th>\n",
       "      <th>ProgramHobby</th>\n",
       "      <th>Country</th>\n",
       "      <th>University</th>\n",
       "      <th>EmploymentStatus</th>\n",
       "      <th>FormalEducation</th>\n",
       "      <th>MajorUndergrad</th>\n",
       "      <th>HomeRemote</th>\n",
       "      <th>CompanySize</th>\n",
       "      <th>...</th>\n",
       "      <th>StackOverflowMakeMoney</th>\n",
       "      <th>Gender</th>\n",
       "      <th>HighestEducationParents</th>\n",
       "      <th>Race</th>\n",
       "      <th>SurveyLong</th>\n",
       "      <th>QuestionsInteresting</th>\n",
       "      <th>QuestionsConfusing</th>\n",
       "      <th>InterestedAnswers</th>\n",
       "      <th>Salary</th>\n",
       "      <th>ExpectedSalary</th>\n",
       "    </tr>\n",
       "  </thead>\n",
       "  <tbody>\n",
       "    <tr>\n",
       "      <th>0</th>\n",
       "      <td>1</td>\n",
       "      <td>Student</td>\n",
       "      <td>Yes, both</td>\n",
       "      <td>United States</td>\n",
       "      <td>No</td>\n",
       "      <td>Not employed, and not looking for work</td>\n",
       "      <td>Secondary school</td>\n",
       "      <td>NaN</td>\n",
       "      <td>NaN</td>\n",
       "      <td>NaN</td>\n",
       "      <td>...</td>\n",
       "      <td>Strongly disagree</td>\n",
       "      <td>Male</td>\n",
       "      <td>High school</td>\n",
       "      <td>White or of European descent</td>\n",
       "      <td>Strongly disagree</td>\n",
       "      <td>Strongly agree</td>\n",
       "      <td>Disagree</td>\n",
       "      <td>Strongly agree</td>\n",
       "      <td>NaN</td>\n",
       "      <td>NaN</td>\n",
       "    </tr>\n",
       "    <tr>\n",
       "      <th>1</th>\n",
       "      <td>2</td>\n",
       "      <td>Student</td>\n",
       "      <td>Yes, both</td>\n",
       "      <td>United Kingdom</td>\n",
       "      <td>Yes, full-time</td>\n",
       "      <td>Employed part-time</td>\n",
       "      <td>Some college/university study without earning ...</td>\n",
       "      <td>Computer science or software engineering</td>\n",
       "      <td>More than half, but not all, the time</td>\n",
       "      <td>20 to 99 employees</td>\n",
       "      <td>...</td>\n",
       "      <td>Strongly disagree</td>\n",
       "      <td>Male</td>\n",
       "      <td>A master's degree</td>\n",
       "      <td>White or of European descent</td>\n",
       "      <td>Somewhat agree</td>\n",
       "      <td>Somewhat agree</td>\n",
       "      <td>Disagree</td>\n",
       "      <td>Strongly agree</td>\n",
       "      <td>NaN</td>\n",
       "      <td>37500.0</td>\n",
       "    </tr>\n",
       "    <tr>\n",
       "      <th>2</th>\n",
       "      <td>3</td>\n",
       "      <td>Professional developer</td>\n",
       "      <td>Yes, both</td>\n",
       "      <td>United Kingdom</td>\n",
       "      <td>No</td>\n",
       "      <td>Employed full-time</td>\n",
       "      <td>Bachelor's degree</td>\n",
       "      <td>Computer science or software engineering</td>\n",
       "      <td>Less than half the time, but at least one day ...</td>\n",
       "      <td>10,000 or more employees</td>\n",
       "      <td>...</td>\n",
       "      <td>Disagree</td>\n",
       "      <td>Male</td>\n",
       "      <td>A professional degree</td>\n",
       "      <td>White or of European descent</td>\n",
       "      <td>Somewhat agree</td>\n",
       "      <td>Agree</td>\n",
       "      <td>Disagree</td>\n",
       "      <td>Agree</td>\n",
       "      <td>113750.0</td>\n",
       "      <td>NaN</td>\n",
       "    </tr>\n",
       "    <tr>\n",
       "      <th>3</th>\n",
       "      <td>4</td>\n",
       "      <td>Professional non-developer who sometimes write...</td>\n",
       "      <td>Yes, both</td>\n",
       "      <td>United States</td>\n",
       "      <td>No</td>\n",
       "      <td>Employed full-time</td>\n",
       "      <td>Doctoral degree</td>\n",
       "      <td>A non-computer-focused engineering discipline</td>\n",
       "      <td>Less than half the time, but at least one day ...</td>\n",
       "      <td>10,000 or more employees</td>\n",
       "      <td>...</td>\n",
       "      <td>Disagree</td>\n",
       "      <td>Male</td>\n",
       "      <td>A doctoral degree</td>\n",
       "      <td>White or of European descent</td>\n",
       "      <td>Agree</td>\n",
       "      <td>Agree</td>\n",
       "      <td>Somewhat agree</td>\n",
       "      <td>Strongly agree</td>\n",
       "      <td>NaN</td>\n",
       "      <td>NaN</td>\n",
       "    </tr>\n",
       "    <tr>\n",
       "      <th>4</th>\n",
       "      <td>5</td>\n",
       "      <td>Professional developer</td>\n",
       "      <td>Yes, I program as a hobby</td>\n",
       "      <td>Switzerland</td>\n",
       "      <td>No</td>\n",
       "      <td>Employed full-time</td>\n",
       "      <td>Master's degree</td>\n",
       "      <td>Computer science or software engineering</td>\n",
       "      <td>Never</td>\n",
       "      <td>10 to 19 employees</td>\n",
       "      <td>...</td>\n",
       "      <td>NaN</td>\n",
       "      <td>NaN</td>\n",
       "      <td>NaN</td>\n",
       "      <td>NaN</td>\n",
       "      <td>NaN</td>\n",
       "      <td>NaN</td>\n",
       "      <td>NaN</td>\n",
       "      <td>NaN</td>\n",
       "      <td>NaN</td>\n",
       "      <td>NaN</td>\n",
       "    </tr>\n",
       "  </tbody>\n",
       "</table>\n",
       "<p>5 rows × 154 columns</p>\n",
       "</div>"
      ],
      "text/plain": [
       "   Respondent                                       Professional  \\\n",
       "0           1                                            Student   \n",
       "1           2                                            Student   \n",
       "2           3                             Professional developer   \n",
       "3           4  Professional non-developer who sometimes write...   \n",
       "4           5                             Professional developer   \n",
       "\n",
       "                ProgramHobby         Country      University  \\\n",
       "0                  Yes, both   United States              No   \n",
       "1                  Yes, both  United Kingdom  Yes, full-time   \n",
       "2                  Yes, both  United Kingdom              No   \n",
       "3                  Yes, both   United States              No   \n",
       "4  Yes, I program as a hobby     Switzerland              No   \n",
       "\n",
       "                         EmploymentStatus  \\\n",
       "0  Not employed, and not looking for work   \n",
       "1                      Employed part-time   \n",
       "2                      Employed full-time   \n",
       "3                      Employed full-time   \n",
       "4                      Employed full-time   \n",
       "\n",
       "                                     FormalEducation  \\\n",
       "0                                   Secondary school   \n",
       "1  Some college/university study without earning ...   \n",
       "2                                  Bachelor's degree   \n",
       "3                                    Doctoral degree   \n",
       "4                                    Master's degree   \n",
       "\n",
       "                                  MajorUndergrad  \\\n",
       "0                                            NaN   \n",
       "1       Computer science or software engineering   \n",
       "2       Computer science or software engineering   \n",
       "3  A non-computer-focused engineering discipline   \n",
       "4       Computer science or software engineering   \n",
       "\n",
       "                                          HomeRemote  \\\n",
       "0                                                NaN   \n",
       "1              More than half, but not all, the time   \n",
       "2  Less than half the time, but at least one day ...   \n",
       "3  Less than half the time, but at least one day ...   \n",
       "4                                              Never   \n",
       "\n",
       "                CompanySize  ... StackOverflowMakeMoney Gender  \\\n",
       "0                       NaN  ...      Strongly disagree   Male   \n",
       "1        20 to 99 employees  ...      Strongly disagree   Male   \n",
       "2  10,000 or more employees  ...               Disagree   Male   \n",
       "3  10,000 or more employees  ...               Disagree   Male   \n",
       "4        10 to 19 employees  ...                    NaN    NaN   \n",
       "\n",
       "  HighestEducationParents                          Race         SurveyLong  \\\n",
       "0             High school  White or of European descent  Strongly disagree   \n",
       "1       A master's degree  White or of European descent     Somewhat agree   \n",
       "2   A professional degree  White or of European descent     Somewhat agree   \n",
       "3       A doctoral degree  White or of European descent              Agree   \n",
       "4                     NaN                           NaN                NaN   \n",
       "\n",
       "  QuestionsInteresting QuestionsConfusing InterestedAnswers    Salary  \\\n",
       "0       Strongly agree           Disagree    Strongly agree       NaN   \n",
       "1       Somewhat agree           Disagree    Strongly agree       NaN   \n",
       "2                Agree           Disagree             Agree  113750.0   \n",
       "3                Agree     Somewhat agree    Strongly agree       NaN   \n",
       "4                  NaN                NaN               NaN       NaN   \n",
       "\n",
       "   ExpectedSalary  \n",
       "0             NaN  \n",
       "1         37500.0  \n",
       "2             NaN  \n",
       "3             NaN  \n",
       "4             NaN  \n",
       "\n",
       "[5 rows x 154 columns]"
      ]
     },
     "execution_count": 2,
     "metadata": {},
     "output_type": "execute_result"
    }
   ],
   "source": [
    "df_17.head()"
   ]
  },
  {
   "cell_type": "code",
   "execution_count": null,
   "metadata": {},
   "outputs": [],
   "source": [
    "df_18.head()"
   ]
  },
  {
   "cell_type": "code",
   "execution_count": null,
   "metadata": {},
   "outputs": [],
   "source": [
    "df_19.head()"
   ]
  },
  {
   "cell_type": "code",
   "execution_count": null,
   "metadata": {},
   "outputs": [],
   "source": [
    "df_20.head()"
   ]
  },
  {
   "cell_type": "markdown",
   "metadata": {},
   "source": [
    "\n",
    "**1.** # of rows and columns"
   ]
  },
  {
   "cell_type": "code",
   "execution_count": 3,
   "metadata": {},
   "outputs": [
    {
     "name": "stdout",
     "output_type": "stream",
     "text": [
      "Year 2017 - Rows in the dataset:  51392 ; Colums in the dataset:  154\n",
      "Year 2018 - Rows in the dataset:  98855 ; Colums in the dataset:  129\n",
      "Year 2019 - Rows in the dataset:  88883 ; Colums in the dataset:  85\n",
      "Year 2020 - Rows in the dataset:  64461 ; Colums in the dataset:  61\n"
     ]
    }
   ],
   "source": [
    "num_rows_17 = df_17.shape[0] # rows, 2017\n",
    "num_cols_17 = df_17.shape[1] # columns, 2017\n",
    "\n",
    "num_rows_18 = df_18.shape[0] # rows, 2018\n",
    "num_cols_18 = df_18.shape[1] # columns, 2018\n",
    "\n",
    "num_rows_19 = df_19.shape[0] # rows, 2019\n",
    "num_cols_19 = df_19.shape[1] # columns, 2019\n",
    "\n",
    "num_rows_20 = df_20.shape[0] # rows, 2020\n",
    "num_cols_20 = df_20.shape[1] # columns, 2020\n",
    "\n",
    "print(\"Year 2017 - Rows in the dataset: \", num_rows_17, \"; Colums in the dataset: \", num_cols_17)\n",
    "print(\"Year 2018 - Rows in the dataset: \", num_rows_18, \"; Colums in the dataset: \", num_cols_18)\n",
    "print(\"Year 2019 - Rows in the dataset: \", num_rows_19, \"; Colums in the dataset: \", num_cols_19)\n",
    "print(\"Year 2020 - Rows in the dataset: \", num_rows_20, \"; Colums in the dataset: \", num_cols_20)"
   ]
  },
  {
   "cell_type": "markdown",
   "metadata": {},
   "source": [
    "**2.** What is the percentage of `null` in the various years?"
   ]
  },
  {
   "cell_type": "code",
   "execution_count": 4,
   "metadata": {},
   "outputs": [
    {
     "name": "stdout",
     "output_type": "stream",
     "text": [
      "Year 2017 - Percentage of Null:  45.32 %\n",
      "Year 2018 - Percentage of Null:  34.11 %\n",
      "Year 2019 - Percentage of Null:  13.62 %\n",
      "Year 2020 - Percentage of Null:  23.11 %\n"
     ]
    }
   ],
   "source": [
    "null_per_17 = df_17.isnull().sum().sum()/(num_rows_17*num_cols_17)\n",
    "null_per_18 = df_18.isnull().sum().sum()/(num_rows_18*num_cols_18)\n",
    "null_per_19 = df_19.isnull().sum().sum()/(num_rows_19*num_cols_19)\n",
    "null_per_20 = df_20.isnull().sum().sum()/(num_rows_20*num_cols_20)\n",
    "\n",
    "print (\"Year 2017 - Percentage of Null: \", \"{:.2f}\".format(null_per_17*100), \"%\")\n",
    "print (\"Year 2018 - Percentage of Null: \", \"{:.2f}\".format(null_per_18*100), \"%\")\n",
    "print (\"Year 2019 - Percentage of Null: \", \"{:.2f}\".format(null_per_19*100), \"%\")\n",
    "print (\"Year 2020 - Percentage of Null: \", \"{:.2f}\".format(null_per_20*100), \"%\")"
   ]
  },
  {
   "cell_type": "markdown",
   "metadata": {},
   "source": [
    "**3. (2017)** - `It's better to ship now and optimize later`"
   ]
  },
  {
   "cell_type": "code",
   "execution_count": null,
   "metadata": {},
   "outputs": [],
   "source": [
    "shipit_vals_17 = df_17.ShipIt.value_counts() #2017"
   ]
  },
  {
   "cell_type": "code",
   "execution_count": null,
   "metadata": {},
   "outputs": [],
   "source": [
    "#Bar chart of the proportion of individuals in each preference \n",
    "(shipit_vals_17/(num_rows_17 - df_17.ShipIt.isnull().sum())).plot(kind=\"bar\");\n",
    "plt.title(\"Ship It Now! (2017)\");"
   ]
  },
  {
   "cell_type": "markdown",
   "metadata": {},
   "source": [
    "**4. (2017)** - `Tab or Spaces?`"
   ]
  },
  {
   "cell_type": "code",
   "execution_count": null,
   "metadata": {},
   "outputs": [],
   "source": [
    "tabspac_vals_17 = df_17.TabsSpaces.value_counts() #2017"
   ]
  },
  {
   "cell_type": "code",
   "execution_count": null,
   "metadata": {},
   "outputs": [],
   "source": [
    "#Bar chart of the proportion of individuals in each preference \n",
    "(tabspac_vals_17/(num_rows_17 - df_17.TabsSpaces.isnull().sum())).plot(kind=\"bar\");\n",
    "plt.title(\"Tab VS. Spaces (2017)\");"
   ]
  },
  {
   "cell_type": "markdown",
   "metadata": {},
   "source": [
    "**NOTE** Function to be used to parse the language columns "
   ]
  },
  {
   "cell_type": "code",
   "execution_count": 5,
   "metadata": {},
   "outputs": [],
   "source": [
    "def total_count(df, col1, col2, separator):\n",
    "    '''\n",
    "    INPUT:\n",
    "    df - the pandas dataframe you want to search\n",
    "    col1 - the column name you want to look through\n",
    "    col2 - the column you want to count values from\n",
    "    look_for - a list of strings you want to search for in each row of df[col]\n",
    "    separator - separator between strings (comma, semicolon etc.)\n",
    "\n",
    "    OUTPUT:\n",
    "    new_df - a dataframe of each look_for with the count of how often it shows up\n",
    "    items_list - a list of the different items that were identified parsing the dataframe\n",
    "    '''\n",
    "    new_df = defaultdict(int)\n",
    "    items_list = [] \n",
    "\n",
    "    # loop through rows\n",
    "    for idx in range(df.shape[0]):\n",
    "        # Split the string to separate the various languages used by the responder (if > 1)\n",
    "        langs = df[col1][idx].split(separator)\n",
    "        # Loop in the list of items\n",
    "        for idy in range(len(langs)):\n",
    "            # Update counts in the dataframe\n",
    "            val = langs[idy]\n",
    "            new_df[val] += int(df[col2][idx])\n",
    "            # If not detected before update list            \n",
    "            if (not(val in items_list)):\n",
    "                items_list.append(val)\n",
    "                \n",
    "    new_df = pd.DataFrame(pd.Series(new_df)).reset_index()\n",
    "    new_df.columns = [col1, col2]\n",
    "    new_df.sort_values('count', ascending=False, inplace=True)\n",
    "    return new_df, items_list"
   ]
  },
  {
   "cell_type": "markdown",
   "metadata": {},
   "source": [
    "**5.** Languages used"
   ]
  },
  {
   "cell_type": "code",
   "execution_count": 6,
   "metadata": {},
   "outputs": [],
   "source": [
    "lang_used_17 = df_17.HaveWorkedLanguage.value_counts() #2017\n",
    "lang_used_18 = df_18.LanguageWorkedWith.value_counts() #2018\n",
    "lang_used_19 = df_19.LanguageWorkedWith.value_counts() #2019\n",
    "lang_used_20 = df_20.LanguageWorkedWith.value_counts() #2020"
   ]
  },
  {
   "cell_type": "code",
   "execution_count": 7,
   "metadata": {},
   "outputs": [],
   "source": [
    "lu_17 = lang_used_17.reset_index()\n",
    "lu_18 = lang_used_18.reset_index()\n",
    "lu_19 = lang_used_19.reset_index()\n",
    "lu_20 = lang_used_20.reset_index()"
   ]
  },
  {
   "cell_type": "code",
   "execution_count": 8,
   "metadata": {},
   "outputs": [],
   "source": [
    "lu_17.rename(columns={'index': 'language', 'HaveWorkedLanguage': 'count'}, inplace=True)\n",
    "lu_18.rename(columns={'index': 'language', 'LanguageWorkedWith': 'count'}, inplace=True)\n",
    "lu_19.rename(columns={'index': 'language', 'LanguageWorkedWith': 'count'}, inplace=True)\n",
    "lu_20.rename(columns={'index': 'language', 'LanguageWorkedWith': 'count'}, inplace=True)"
   ]
  },
  {
   "cell_type": "code",
   "execution_count": 9,
   "metadata": {},
   "outputs": [],
   "source": [
    "lu_17_df, worked_languages_17 = total_count(lu_17, 'language', 'count', '; ')"
   ]
  },
  {
   "cell_type": "code",
   "execution_count": 10,
   "metadata": {},
   "outputs": [],
   "source": [
    "lu_18_df, worked_languages_18 = total_count(lu_18, 'language', 'count', ';')"
   ]
  },
  {
   "cell_type": "code",
   "execution_count": 11,
   "metadata": {},
   "outputs": [],
   "source": [
    "lu_19_df, worked_languages_19 = total_count(lu_19, 'language', 'count', ';')"
   ]
  },
  {
   "cell_type": "code",
   "execution_count": 12,
   "metadata": {},
   "outputs": [],
   "source": [
    "lu_20_df, worked_languages_20 = total_count(lu_20, 'language', 'count', ';')"
   ]
  },
  {
   "cell_type": "code",
   "execution_count": 13,
   "metadata": {},
   "outputs": [
    {
     "data": {
      "image/png": "[encoded data removed]",
      "text/plain": [
       "<Figure size 921.6x1382.4 with 4 Axes>"
      ]
     },
     "metadata": {
      "needs_background": "light"
     },
     "output_type": "display_data"
    }
   ],
   "source": [
    "# Bar chart of the proportion of the top 10 languages/combinations for the individuals in count_vals\n",
    "\n",
    "fig, ((ax1, ax2), (ax3, ax4)) = plt.subplots(2, 2)\n",
    "fig.suptitle(\"Languages Used\")\n",
    "fig.set_figheight(19.2) \n",
    "fig.set_figwidth(12.8)\n",
    "\n",
    "ax1.bar(lu_17_df[:10]['language'].to_list(), lu_17_df[:10]['count'].to_list()\n",
    "        /(num_rows_17 - df_17.HaveWorkedLanguage.isnull().sum()))\n",
    "ax1.tick_params('x', labelrotation=90)\n",
    "ax1.set_title(\"2017\")\n",
    "ax1.set_ylim([0, 0.8])\n",
    "ax1.grid()\n",
    "\n",
    "ax2.bar(lu_18_df[:10]['language'].to_list(), lu_18_df[:10]['count'].to_list()\n",
    "        /(num_rows_18 - df_18.LanguageWorkedWith.isnull().sum()), color = \"orange\")\n",
    "ax2.tick_params('x', labelrotation=90)\n",
    "ax2.set_title(\"2018\")\n",
    "ax2.set_ylim([0, 0.8])\n",
    "ax2.grid()\n",
    "\n",
    "ax3.bar(lu_19_df[:10]['language'].to_list(), lu_19_df[:10]['count'].to_list()\n",
    "        /(num_rows_19 - df_19.LanguageWorkedWith.isnull().sum()), color = \"purple\")\n",
    "ax3.tick_params('x', labelrotation=90)\n",
    "ax3.set_title(\"2019\")\n",
    "ax3.set_ylim([0, 0.8])\n",
    "ax3.grid()\n",
    "\n",
    "ax4.bar(lu_20_df[:10]['language'].to_list(), lu_20_df[:10]['count'].to_list()\n",
    "        /(num_rows_20 - df_20.LanguageWorkedWith.isnull().sum()), color = \"green\")\n",
    "ax4.tick_params('x', labelrotation=90)\n",
    "ax4.set_title(\"2020\")\n",
    "ax4.set_ylim([0, 0.8])\n",
    "ax4.grid();"
   ]
  },
  {
   "cell_type": "markdown",
   "metadata": {},
   "source": [
    "**6.** Languages Wanted"
   ]
  },
  {
   "cell_type": "code",
   "execution_count": null,
   "metadata": {},
   "outputs": [],
   "source": [
    "lang_wanted_17 = df_17.WantWorkLanguage.value_counts() #2017\n",
    "lang_wanted_18 = df_18.LanguageDesireNextYear.value_counts() #2018\n",
    "lang_wanted_19 = df_19.LanguageDesireNextYear.value_counts() #2019\n",
    "lang_wanted_20 = df_20.LanguageDesireNextYear.value_counts() #2020"
   ]
  },
  {
   "cell_type": "code",
   "execution_count": null,
   "metadata": {},
   "outputs": [],
   "source": [
    "lw_17 = lang_wanted_17.reset_index()\n",
    "lw_18 = lang_wanted_18.reset_index()\n",
    "lw_19 = lang_wanted_19.reset_index()\n",
    "lw_20 = lang_wanted_20.reset_index()"
   ]
  },
  {
   "cell_type": "code",
   "execution_count": null,
   "metadata": {},
   "outputs": [],
   "source": [
    "lw_17.rename(columns={'index': 'language', 'WantWorkLanguage': 'count'}, inplace=True)\n",
    "lw_18.rename(columns={'index': 'language', 'LanguageDesireNextYear': 'count'}, inplace=True)\n",
    "lw_19.rename(columns={'index': 'language', 'LanguageDesireNextYear': 'count'}, inplace=True)\n",
    "lw_20.rename(columns={'index': 'language', 'LanguageDesireNextYear': 'count'}, inplace=True)"
   ]
  },
  {
   "cell_type": "code",
   "execution_count": null,
   "metadata": {},
   "outputs": [],
   "source": [
    "lw_17_df, wanted_languages_17 = total_count(lw_17, 'language', 'count', ';')"
   ]
  },
  {
   "cell_type": "code",
   "execution_count": null,
   "metadata": {},
   "outputs": [],
   "source": [
    "lw_18_df, wanted_languages_18 = total_count(lw_18, 'language', 'count', ';')"
   ]
  },
  {
   "cell_type": "code",
   "execution_count": null,
   "metadata": {},
   "outputs": [],
   "source": [
    "lw_19_df, wanted_languages_19 = total_count(lw_19, 'language', 'count', ';')"
   ]
  },
  {
   "cell_type": "code",
   "execution_count": null,
   "metadata": {},
   "outputs": [],
   "source": [
    "lw_20_df, wanted_languages_20 = total_count(lw_20, 'language', 'count', ';')"
   ]
  },
  {
   "cell_type": "code",
   "execution_count": null,
   "metadata": {},
   "outputs": [],
   "source": [
    "# Bar chart of the proportion of the top 10 languages/combinations for the individuals in count_vals\n",
    "\n",
    "fig, ((ax1, ax2), (ax3, ax4)) = plt.subplots(2, 2)\n",
    "fig.suptitle(\"Languages Wanted\")\n",
    "fig.set_figheight(19.2) \n",
    "fig.set_figwidth(12.8)\n",
    "\n",
    "ax1.bar(lw_17_df[:10]['language'].to_list(), lw_17_df[:10]['count'].to_list()\n",
    "        /(num_rows_17 - df_17.WantWorkLanguage.isnull().sum()))\n",
    "ax1.tick_params('x', labelrotation=90)\n",
    "ax1.set_title(\"2017\")\n",
    "ax1.set_ylim([0, 0.6])\n",
    "ax1.grid()\n",
    "\n",
    "ax2.bar(lw_18_df[:10]['language'].to_list(), lw_18_df[:10]['count'].to_list()\n",
    "        /(num_rows_18 - df_18.LanguageDesireNextYear.isnull().sum()), color = \"orange\")\n",
    "ax2.tick_params('x', labelrotation=90)\n",
    "ax2.set_title(\"2018\")\n",
    "ax2.set_ylim([0, 0.6])\n",
    "ax2.grid()\n",
    "\n",
    "ax3.bar(lw_19_df[:10]['language'].to_list(), lw_19_df[:10]['count'].to_list()\n",
    "        /(num_rows_19 - df_19.LanguageDesireNextYear.isnull().sum()), color = \"purple\")\n",
    "ax3.tick_params('x', labelrotation=90)\n",
    "ax3.set_title(\"2019\")\n",
    "ax3.set_ylim([0, 0.6])\n",
    "ax3.grid()\n",
    "\n",
    "ax4.bar(lw_20_df[:10]['language'].to_list(), lw_20_df[:10]['count'].to_list()\n",
    "        /(num_rows_20 - df_20.LanguageDesireNextYear.isnull().sum()), color = \"green\")\n",
    "ax4.tick_params('x', labelrotation=90)\n",
    "ax4.set_title(\"2020\")\n",
    "ax4.set_ylim([0, 0.6])\n",
    "ax4.grid();"
   ]
  },
  {
   "cell_type": "code",
   "execution_count": null,
   "metadata": {},
   "outputs": [],
   "source": []
  }
 ],
 "metadata": {
  "kernelspec": {
   "display_name": "Python 3",
   "language": "python",
   "name": "python3"
  },
  "language_info": {
   "codemirror_mode": {
    "name": "ipython",
    "version": 3
   },
   "file_extension": ".py",
   "mimetype": "text/x-python",
   "name": "python",
   "nbconvert_exporter": "python",
   "pygments_lexer": "ipython3",
   "version": "3.6.1"
  }
 },
 "nbformat": 4,
 "nbformat_minor": 2
}
