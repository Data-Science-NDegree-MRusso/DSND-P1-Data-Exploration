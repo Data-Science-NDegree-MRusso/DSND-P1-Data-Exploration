{
 "cells": [
  {
   "cell_type": "markdown",
   "metadata": {},
   "source": [
    "\n",
    "\n",
    "\n",
    "\n",
    "\n",
    "\n",
    "\n",
    "<h2 id='part1'>First Look at the Data</h2>\n",
    "\n",
    "\n",
    "First, let's read in the data and necessary libraries."
   ]
  },
  {
   "cell_type": "code",
   "execution_count": null,
   "metadata": {},
   "outputs": [],
   "source": [
    "import numpy as np\n",
    "import pandas as pd\n",
    "import matplotlib.pyplot as plt\n",
    "%matplotlib inline\n",
    "\n",
    "# df = pd.read_csv('../data/stack_overflow_2014/2014 Stack Overflow Survey Responses.csv') #Uncomment for 2014\n",
    "# df = pd.read_csv('../data/stack_overflow_2017/survey_results_public.csv') #Uncomment for 2017\n",
    "# df = pd.read_csv('../data/stack_overflow_2018/survey_results_public.csv') #Uncomment for 2018\n",
    "df = pd.read_csv('../data/stack_overflow_2019/survey_results_public.csv') #Uncomment for 2019\n",
    "# df = pd.read_csv('../data/stack_overflow_2020/survey_results_public.csv') #Uncomment for 2020\n",
    "\n",
    "df.head()"
   ]
  },
  {
   "cell_type": "markdown",
   "metadata": {},
   "source": [
    "\n",
    "**1.** Let's # of rows and columns"
   ]
  },
  {
   "cell_type": "code",
   "execution_count": null,
   "metadata": {},
   "outputs": [],
   "source": [
    "num_rows = df.shape[0] #Provide the number of rows in the dataset\n",
    "num_cols = df.shape[1] #Provide the number of columns in the dataset\n",
    "\n",
    "print(\"Rows in the dataset: \", num_rows, \"; Colums in the dataset: \", num_cols)"
   ]
  },
  {
   "cell_type": "markdown",
   "metadata": {},
   "source": [
    "\n",
    "**2.** Which columns have no missing values?"
   ]
  },
  {
   "cell_type": "code",
   "execution_count": null,
   "metadata": {},
   "outputs": [],
   "source": [
    "no_nulls = set(df.columns[df.isnull().mean()==0])#Provide a set of columns with 0 missing values.\n",
    "\n",
    "print(no_nulls)"
   ]
  },
  {
   "cell_type": "markdown",
   "metadata": {},
   "source": [
    "**3.** Which columns have the most missing values?  "
   ]
  },
  {
   "cell_type": "code",
   "execution_count": null,
   "metadata": {},
   "outputs": [],
   "source": [
    "#Threshold used for the null identification \n",
    "null_threshold = 0.75 \n",
    "\n",
    "#Provide a set of columns with a portion of values missing > than the threshold\n",
    "most_missing_cols = set(df.columns[df.isnull().mean() > null_threshold])\n",
    "\n",
    "print(\"Columns with more than \", null_threshold*100, \"% of missing values :\")\n",
    "most_missing_cols"
   ]
  },
  {
   "cell_type": "markdown",
   "metadata": {},
   "source": [
    "**-.** Some other check (mostly for 2014)"
   ]
  },
  {
   "cell_type": "code",
   "execution_count": null,
   "metadata": {},
   "outputs": [],
   "source": [
    "for col in df.columns:\n",
    "    print(col)"
   ]
  },
  {
   "cell_type": "markdown",
   "metadata": {},
   "source": [
    "**4.** Provide a pandas series of the different **Professional** status values in the dataset.  Store this pandas series in **status_vals**. "
   ]
  },
  {
   "cell_type": "code",
   "execution_count": null,
   "metadata": {},
   "outputs": [],
   "source": [
    "#Provide a pandas series of the counts for each Professional status\n",
    "# status_vals = df.filter(regex='occupation').value_counts() #2014\n",
    "# status_vals = df.Professional.value_counts() #2017\n",
    "# status_vals = df.DevType.value_counts() #2018\n",
    "status_vals = df.MainBranch.value_counts() #2019, 2020\n",
    "\n",
    "status_vals"
   ]
  },
  {
   "cell_type": "code",
   "execution_count": null,
   "metadata": {},
   "outputs": [],
   "source": [
    "#Bar chart of the proportion of individuals in each professional category \n",
    "\n",
    "(status_vals[:10]/df.shape[0]).plot(kind=\"bar\");\n",
    "plt.title(\"Developer definition\");"
   ]
  },
  {
   "cell_type": "markdown",
   "metadata": {},
   "source": [
    "**5.** Provide a pandas series of the different **FormalEducation** status values in the dataset.  Store this pandas series in **ed_vals**. "
   ]
  },
  {
   "cell_type": "code",
   "execution_count": null,
   "metadata": {},
   "outputs": [],
   "source": [
    "#Provide a pandas series of the counts for each FormalEducation status\n",
    "# ed_vals = df.FormalEducation.value_counts() #2017, 2018\n",
    "ed_vals = df.EdLevel.value_counts() #2019, 2020"
   ]
  },
  {
   "cell_type": "code",
   "execution_count": null,
   "metadata": {},
   "outputs": [],
   "source": [
    "# Bar chart of the proportion of individuals in ed_vals\n",
    "\n",
    "(ed_vals/df.shape[0]).plot(kind=\"bar\");\n",
    "plt.title(\"Formal Education\");"
   ]
  },
  {
   "cell_type": "markdown",
   "metadata": {},
   "source": [
    "**6.** Pandas series of the different **Country** values in the dataset.  Store this pandas series in **count_vals**. "
   ]
  },
  {
   "cell_type": "code",
   "execution_count": null,
   "metadata": {},
   "outputs": [],
   "source": [
    "#Provide a pandas series of the counts for each Country\n",
    "#count_vals = df.filter(regex='Country').value_counts() #2014\n",
    "count_vals = df.Country.value_counts()"
   ]
  },
  {
   "cell_type": "code",
   "execution_count": null,
   "metadata": {},
   "outputs": [],
   "source": [
    "# Bar chart of the proportion of the top 10 countries for the individuals in count_vals\n",
    "\n",
    "(count_vals[:10]/df.shape[0]).plot(kind=\"bar\");\n",
    "plt.title(\"Country\");"
   ]
  },
  {
   "cell_type": "markdown",
   "metadata": {},
   "source": [
    "**7.** Pandas series of the different **Gender** values in the dataset.  Store this pandas series in **gend_vals**. "
   ]
  },
  {
   "cell_type": "code",
   "execution_count": null,
   "metadata": {},
   "outputs": [],
   "source": [
    "#Provide a pandas series of the counts for each Gender\n",
    "# gend_vals = df.filter(regex='gender').value_counts() 2014\n",
    "gend_vals = df.Gender.value_counts()\n"
   ]
  },
  {
   "cell_type": "code",
   "execution_count": null,
   "metadata": {},
   "outputs": [],
   "source": [
    "# Bar chart of the proportion of the top 10 values for the individuals in gend_vals\n",
    "\n",
    "(gend_vals[:10]/df.shape[0]).plot(kind=\"bar\");\n",
    "plt.title(\"Gender\");"
   ]
  },
  {
   "cell_type": "code",
   "execution_count": null,
   "metadata": {},
   "outputs": [],
   "source": []
  }
 ],
 "metadata": {
  "kernelspec": {
   "display_name": "Python 3",
   "language": "python",
   "name": "python3"
  },
  "language_info": {
   "codemirror_mode": {
    "name": "ipython",
    "version": 3
   },
   "file_extension": ".py",
   "mimetype": "text/x-python",
   "name": "python",
   "nbconvert_exporter": "python",
   "pygments_lexer": "ipython3",
   "version": "3.6.1"
  }
 },
 "nbformat": 4,
 "nbformat_minor": 2
}
