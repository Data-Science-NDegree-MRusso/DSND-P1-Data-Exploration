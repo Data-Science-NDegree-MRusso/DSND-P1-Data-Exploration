{
 "cells": [
  {
   "cell_type": "markdown",
   "metadata": {},
   "source": [
    "\n",
    "\n",
    "\n",
    "\n",
    "\n",
    "\n",
    "\n",
    "<h2 id='part1'>Compare the Data</h2>\n",
    "\n",
    "\n",
    "Compare 2017 and 2020"
   ]
  },
  {
   "cell_type": "markdown",
   "metadata": {},
   "source": [
    "First, let's read in the data and necessary libraries."
   ]
  },
  {
   "cell_type": "code",
   "execution_count": null,
   "metadata": {},
   "outputs": [],
   "source": [
    "import numpy as np\n",
    "import pandas as pd\n",
    "import matplotlib.pyplot as plt\n",
    "%matplotlib inline\n",
    "\n",
    "df_17 = pd.read_csv('../data/stack_overflow_2017/survey_results_public.csv') #Uncomment for 2017\n",
    "df_18 = pd.read_csv('../data/stack_overflow_2018/survey_results_public.csv') #Uncomment for 2017\n",
    "df_19 = pd.read_csv('../data/stack_overflow_2019/survey_results_public.csv') #Uncomment for 2017\n",
    "df_20 = pd.read_csv('../data/stack_overflow_2020/survey_results_public.csv') #Uncomment for 2020"
   ]
  },
  {
   "cell_type": "code",
   "execution_count": null,
   "metadata": {},
   "outputs": [],
   "source": [
    "df_17.head()"
   ]
  },
  {
   "cell_type": "code",
   "execution_count": null,
   "metadata": {},
   "outputs": [],
   "source": [
    "df_18.head()"
   ]
  },
  {
   "cell_type": "code",
   "execution_count": null,
   "metadata": {},
   "outputs": [],
   "source": [
    "df_19.head()"
   ]
  },
  {
   "cell_type": "code",
   "execution_count": null,
   "metadata": {},
   "outputs": [],
   "source": [
    "df_20.head()"
   ]
  },
  {
   "cell_type": "markdown",
   "metadata": {},
   "source": [
    "**1.** # of rows and columns"
   ]
  },
  {
   "cell_type": "code",
   "execution_count": null,
   "metadata": {},
   "outputs": [],
   "source": [
    "num_rows_17 = df_17.shape[0] # rows, 2017\n",
    "num_cols_17 = df_17.shape[1] # columns, 2017\n",
    "\n",
    "num_rows_18 = df_18.shape[0] # rows, 2018\n",
    "num_cols_18 = df_18.shape[1] # columns, 2018\n",
    "\n",
    "num_rows_19 = df_19.shape[0] # rows, 2019\n",
    "num_cols_19 = df_19.shape[1] # columns, 2019\n",
    "\n",
    "num_rows_20 = df_20.shape[0] # rows, 2020\n",
    "num_cols_20 = df_20.shape[1] # columns, 2020\n",
    "\n",
    "print(\"Year 2017 - Rows in the dataset: \", num_rows_17, \"; Colums in the dataset: \", num_cols_17)\n",
    "print(\"Year 2018 - Rows in the dataset: \", num_rows_18, \"; Colums in the dataset: \", num_cols_18)\n",
    "print(\"Year 2019 - Rows in the dataset: \", num_rows_19, \"; Colums in the dataset: \", num_cols_19)\n",
    "print(\"Year 2020 - Rows in the dataset: \", num_rows_20, \"; Colums in the dataset: \", num_cols_20)"
   ]
  },
  {
   "cell_type": "markdown",
   "metadata": {},
   "source": [
    "**2.** What is the percentage of `null` in the various years?"
   ]
  },
  {
   "cell_type": "code",
   "execution_count": null,
   "metadata": {},
   "outputs": [],
   "source": [
    "null_per_17 = df_17.isnull().sum().sum()/(num_rows_17*num_cols_17)\n",
    "null_per_18 = df_18.isnull().sum().sum()/(num_rows_18*num_cols_18)\n",
    "null_per_19 = df_19.isnull().sum().sum()/(num_rows_19*num_cols_19)\n",
    "null_per_20 = df_20.isnull().sum().sum()/(num_rows_20*num_cols_20)\n",
    "\n",
    "print (\"Year 2017 - Percentage of Null: \", \"{:.2f}\".format(null_per_17*100), \"%\")\n",
    "print (\"Year 2018 - Percentage of Null: \", \"{:.2f}\".format(null_per_18*100), \"%\")\n",
    "print (\"Year 2019 - Percentage of Null: \", \"{:.2f}\".format(null_per_19*100), \"%\")\n",
    "print (\"Year 2020 - Percentage of Null: \", \"{:.2f}\".format(null_per_20*100), \"%\")"
   ]
  },
  {
   "cell_type": "markdown",
   "metadata": {},
   "source": [
    "**3.** Characterize professional categories (Professional Developer, Student etc.)"
   ]
  },
  {
   "cell_type": "code",
   "execution_count": null,
   "metadata": {},
   "outputs": [],
   "source": [
    "#NOTE: title of the column containing professional information changed from 2017 to 2020\n",
    "\n",
    "status_vals_17 = df_17.Professional.value_counts() #2017\n",
    "#Data in 2018 do not seem to include this information, even if it was asked to the respondent\n",
    "status_vals_19 = df_19.MainBranch.value_counts() #2019\n",
    "status_vals_20 = df_20.MainBranch.value_counts() #2020"
   ]
  },
  {
   "cell_type": "code",
   "execution_count": null,
   "metadata": {},
   "outputs": [],
   "source": [
    "#Bar chart of the proportion of individuals in each professional category \n",
    "fig, ((ax1, ax2, ax3)) = plt.subplots(1, 3)\n",
    "fig.suptitle(\"Developer characterization\")\n",
    "fig.set_figheight(9.6) \n",
    "fig.set_figwidth(19.2)\n",
    "\n",
    "(status_vals_17/(num_rows_17 - df_17.Professional.isnull().sum())).plot(ax=ax1, kind=\"bar\")\n",
    "ax1.set_title(\"2017\")\n",
    "ax1.set_ylim([0, 0.8])\n",
    "ax1.grid()\n",
    "\n",
    "(status_vals_19/(num_rows_19 - df_19.MainBranch.isnull().sum())).plot(ax=ax2, kind=\"bar\", color=\"purple\")\n",
    "ax2.set_title(\"2019\")\n",
    "ax2.set_ylim([0, 0.8])\n",
    "ax2.grid()\n",
    "\n",
    "(status_vals_20/(num_rows_20 - df_20.MainBranch.isnull().sum())).plot(ax=ax3, kind=\"bar\", color=\"green\")\n",
    "ax3.set_title(\"2020\")\n",
    "ax3.set_ylim([0, 0.8])\n",
    "ax3.grid();"
   ]
  },
  {
   "cell_type": "markdown",
   "metadata": {},
   "source": [
    "**4.** Characterize formal education of the Respondent. "
   ]
  },
  {
   "cell_type": "code",
   "execution_count": null,
   "metadata": {},
   "outputs": [],
   "source": [
    "#NOTE: title of the column containing formal education information changed from 2017 to 2020\n",
    "ed_vals_17 = df_17.FormalEducation.value_counts() #2017\n",
    "ed_vals_18 = df_18.FormalEducation.value_counts() #2018\n",
    "ed_vals_19 = df_19.EdLevel.value_counts() #2018\n",
    "ed_vals_20 = df_20.EdLevel.value_counts() #2020"
   ]
  },
  {
   "cell_type": "code",
   "execution_count": null,
   "metadata": {},
   "outputs": [],
   "source": [
    "# Bar chart of the proportion of individuals in ed_vals\n",
    "fig, (ax1, ax2) = plt.subplots(1, 2)\n",
    "fig.suptitle(\"Formal Education (1/2)\")\n",
    "fig.set_figheight(9.6) \n",
    "fig.set_figwidth(12.8)\n",
    "\n",
    "(ed_vals_17/(num_rows_17 - df_17.FormalEducation.isnull().sum())).plot(ax=ax1, kind=\"bar\");\n",
    "ax1.set_title(\"2017\")\n",
    "ax1.set_ylim([0, 0.5])\n",
    "ax1.grid()\n",
    "\n",
    "(ed_vals_18/(num_rows_18 - df_18.FormalEducation.isnull().sum())).plot(ax=ax2, kind=\"bar\", color = \"orange\");\n",
    "ax2.set_title(\"2018\")\n",
    "ax2.set_ylim([0, 0.5])\n",
    "ax2.grid();"
   ]
  },
  {
   "cell_type": "code",
   "execution_count": null,
   "metadata": {},
   "outputs": [],
   "source": [
    "#Split in 2 figures for readibility of the labels\n",
    "fig, (ax3, ax4) = plt.subplots(1, 2)\n",
    "fig.suptitle(\"Formal Education (2/2)\")\n",
    "fig.set_figheight(9.6) \n",
    "fig.set_figwidth(12.8)\n",
    "\n",
    "(ed_vals_19/(num_rows_19 - df_19.EdLevel.isnull().sum())).plot(ax=ax3, kind=\"bar\", color = \"purple\");\n",
    "ax3.set_title(\"2019\")\n",
    "ax3.set_ylim([0, 0.5])\n",
    "ax3.grid();\n",
    "\n",
    "(ed_vals_20/(num_rows_20 - df_20.EdLevel.isnull().sum())).plot(ax=ax4, kind=\"bar\", color = \"green\");\n",
    "ax4.set_title(\"2020\")\n",
    "ax4.set_ylim([0, 0.5])\n",
    "ax4.grid();"
   ]
  },
  {
   "cell_type": "markdown",
   "metadata": {},
   "source": [
    "**5.** Group respondent by Country "
   ]
  },
  {
   "cell_type": "code",
   "execution_count": null,
   "metadata": {},
   "outputs": [],
   "source": [
    "count_vals_17 = df_17.Country.value_counts() #2017\n",
    "count_vals_18 = df_18.Country.value_counts() #2018\n",
    "count_vals_19 = df_19.Country.value_counts() #2019\n",
    "count_vals_20 = df_20.Country.value_counts() #2020"
   ]
  },
  {
   "cell_type": "code",
   "execution_count": null,
   "metadata": {},
   "outputs": [],
   "source": [
    "#Bar chart of the first 10 countries in count_vals\n",
    "fig, (ax1, ax2) = plt.subplots(1, 2)\n",
    "fig.suptitle(\"Country (1/2)\")\n",
    "fig.set_figheight(9.6) \n",
    "fig.set_figwidth(12.8)\n",
    "\n",
    "(count_vals_17[:10]/(num_rows_17 - df_17.Country.isnull().sum())).plot(ax=ax1, kind=\"bar\")\n",
    "ax1.set_title(\"2017\")\n",
    "ax1.set_ylim([0, 0.25])\n",
    "ax1.grid()\n",
    "\n",
    "(count_vals_18[:10]/(num_rows_18 - df_18.Country.isnull().sum())).plot(ax=ax2, kind=\"bar\", color = \"orange\");\n",
    "ax2.set_title(\"2020\")\n",
    "ax2.set_ylim([0, 0.25])\n",
    "ax2.grid();"
   ]
  },
  {
   "cell_type": "code",
   "execution_count": null,
   "metadata": {},
   "outputs": [],
   "source": [
    "#Splint in two to inprove readibility of lables\n",
    "fig, (ax3, ax4) = plt.subplots(1, 2)\n",
    "fig.suptitle(\"Country (2/2)\")\n",
    "fig.set_figheight(9.6) \n",
    "fig.set_figwidth(12.8)\n",
    "\n",
    "(count_vals_19[:10]/(num_rows_19 - df_19.Country.isnull().sum())).plot(ax=ax3, kind=\"bar\", color = \"purple\");\n",
    "ax3.set_title(\"2020\")\n",
    "ax3.set_ylim([0, 0.25])\n",
    "ax3.grid();\n",
    "\n",
    "(count_vals_20[:10]/(num_rows_20 - df_20.Country.isnull().sum())).plot(ax=ax4, kind=\"bar\", color = \"green\");\n",
    "ax4.set_title(\"2020\")\n",
    "ax4.set_ylim([0, 0.25])\n",
    "ax4.grid();"
   ]
  },
  {
   "cell_type": "markdown",
   "metadata": {},
   "source": [
    "**6.** Group respondent according to Gender"
   ]
  },
  {
   "cell_type": "code",
   "execution_count": null,
   "metadata": {},
   "outputs": [],
   "source": [
    "gend_vals_17 = df_17.Gender.value_counts() #2017\n",
    "gend_vals_18 = df_18.Gender.value_counts() #2018\n",
    "gend_vals_19 = df_19.Gender.value_counts() #2019\n",
    "gend_vals_20 = df_20.Gender.value_counts() #2020"
   ]
  },
  {
   "cell_type": "code",
   "execution_count": null,
   "metadata": {},
   "outputs": [],
   "source": [
    "gend_vals_17[:10]/(num_rows_17 - df_17.Gender.isnull().sum())"
   ]
  },
  {
   "cell_type": "code",
   "execution_count": null,
   "metadata": {},
   "outputs": [],
   "source": [
    "# Bar chart of the proportion of the top 5 values for the individuals in gend_vals\n",
    "fig, (ax1, ax2) = plt.subplots(1, 2)\n",
    "fig.suptitle(\"Gender (1/2)\")\n",
    "fig.set_figheight(9.6) \n",
    "fig.set_figwidth(12.8)\n",
    "\n",
    "(gend_vals_17[:10]/(num_rows_17 - df_17.Gender.isnull().sum())).plot(ax=ax1, kind=\"bar\")\n",
    "ax1.set_title(\"2017\")\n",
    "ax1.set_ylim([0, 0.95])\n",
    "ax1.grid()\n",
    "\n",
    "(gend_vals_18[:10]/(num_rows_18 - df_18.Gender.isnull().sum())).plot(ax=ax2, kind=\"bar\", color = \"orange\");\n",
    "ax2.set_title(\"2018\")\n",
    "ax2.set_ylim([0, 0.95])\n",
    "ax2.grid();"
   ]
  },
  {
   "cell_type": "code",
   "execution_count": null,
   "metadata": {},
   "outputs": [],
   "source": [
    "# Splitting to improve readability\n",
    "fig, (ax3, ax4) = plt.subplots(1, 2)\n",
    "fig.suptitle(\"Gender (2/2)\")\n",
    "fig.set_figheight(9.6) \n",
    "fig.set_figwidth(12.8)\n",
    "\n",
    "(gend_vals_19[:10]/(num_rows_19 - df_19.Gender.isnull().sum())).plot(ax=ax3, kind=\"bar\", color = \"purple\")\n",
    "ax3.set_title(\"2019\")\n",
    "ax3.set_ylim([0, 0.95])\n",
    "ax3.grid()\n",
    "\n",
    "(gend_vals_20[:10]/(num_rows_20 - df_20.Gender.isnull().sum())).plot(ax=ax4, kind=\"bar\", color = \"green\");\n",
    "ax4.set_title(\"2020\")\n",
    "ax4.set_ylim([0, 0.95])\n",
    "ax4.grid();"
   ]
  },
  {
   "cell_type": "code",
   "execution_count": null,
   "metadata": {},
   "outputs": [],
   "source": []
  }
 ],
 "metadata": {
  "kernelspec": {
   "display_name": "Python 3",
   "language": "python",
   "name": "python3"
  },
  "language_info": {
   "codemirror_mode": {
    "name": "ipython",
    "version": 3
   },
   "file_extension": ".py",
   "mimetype": "text/x-python",
   "name": "python",
   "nbconvert_exporter": "python",
   "pygments_lexer": "ipython3",
   "version": "3.6.1"
  }
 },
 "nbformat": 4,
 "nbformat_minor": 2
}
